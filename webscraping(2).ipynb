{
 "cells": [
  {
   "cell_type": "code",
   "execution_count": 119,
   "metadata": {},
   "outputs": [],
   "source": [
    "import requests\n",
    "from bs4 import BeautifulSoup\n",
    "import pandas as pd\n"
   ]
  },
  {
   "cell_type": "code",
   "execution_count": 120,
   "metadata": {},
   "outputs": [],
   "source": [
    "URL1 = \"https://boston.craigslist.org/search/fua#search=1~gallery~0~0\""
   ]
  },
  {
   "cell_type": "code",
   "execution_count": 121,
   "metadata": {},
   "outputs": [],
   "source": [
    "# Headers for request\n",
    "HEADERS = ({'User-Agent':'Mozilla/5.0 (Windows NT 10.0; Win64; x64) AppleWebKit/537.36 (KHTML, like Gecko) Chrome/119.0.0.0 Safari/537.36', 'Accept-Language': 'en-US, en;q=0.5'}) #add your user agent "
   ]
  },
  {
   "cell_type": "code",
   "execution_count": 122,
   "metadata": {},
   "outputs": [],
   "source": [
    "# HTTP Request\n",
    "webpage1 = requests.get(URL1, headers=HEADERS)"
   ]
  },
  {
   "cell_type": "code",
   "execution_count": 123,
   "metadata": {},
   "outputs": [],
   "source": [
    "# Soup Object containiang all data\n",
    "soup1 = BeautifulSoup(webpage1.content, \"html.parser\")"
   ]
  },
  {
   "cell_type": "code",
   "execution_count": 124,
   "metadata": {},
   "outputs": [],
   "source": [
    "# Fetch links as List of Tag Objects\n",
    "link1 = soup1.find_all(\"li\", attrs={'class':'cl-static-search-result'})"
   ]
  },
  {
   "cell_type": "code",
   "execution_count": 127,
   "metadata": {},
   "outputs": [
    {
     "name": "stdout",
     "output_type": "stream",
     "text": [
      "                                                 Title   Price  \\\n",
      "0                        Seven Tier Wood Display Tower     $20   \n",
      "1                       Set of 2 Stackable IKEA Chairs     $60   \n",
      "2                            Very Large Recliner Chair    $289   \n",
      "3                    Room & Board Hess Sofa (Was 3399)  $1,407   \n",
      "4                    Simmons Queen Beautyrest mattress    $125   \n",
      "..                                                 ...     ...   \n",
      "346                                     Designer Chair     $65   \n",
      "347                                           Bookcase     $70   \n",
      "348                    Natural Wood Framed Wall Mirror     $45   \n",
      "349  Belfort IronWorks Vintage “Eiffel” Accent Side...     $95   \n",
      "350  Restoration Hardware Cylindrical Column Crysta...    $395   \n",
      "\n",
      "                       Location  \\\n",
      "0                       Wayland   \n",
      "1                  West Roxbury   \n",
      "2                    Wayland Ma   \n",
      "3    boston/cambridge/brookline   \n",
      "4                        SauguS   \n",
      "..                          ...   \n",
      "346                   Lexington   \n",
      "347                      Revere   \n",
      "348                  Nashua, NH   \n",
      "349                   Brookline   \n",
      "350                   Brookline   \n",
      "\n",
      "                                                   URL  \n",
      "0    https://boston.craigslist.org/bmw/fuo/d/waylan...  \n",
      "1    https://boston.craigslist.org/gbs/fuo/d/west-r...  \n",
      "2    https://boston.craigslist.org/bmw/fuo/d/very-l...  \n",
      "3    https://boston.craigslist.org/gbs/fud/d/cambri...  \n",
      "4    https://boston.craigslist.org/nos/fuo/d/saugus...  \n",
      "..                                                 ...  \n",
      "346  https://boston.craigslist.org/gbs/fuo/d/lexing...  \n",
      "347  https://boston.craigslist.org/nos/fuo/d/revere...  \n",
      "348  https://boston.craigslist.org/nwb/fuo/d/nashua...  \n",
      "349  https://boston.craigslist.org/gbs/fuo/d/brookl...  \n",
      "350  https://boston.craigslist.org/gbs/fuo/d/brookl...  \n",
      "\n",
      "[351 rows x 4 columns]\n"
     ]
    }
   ],
   "source": [
    "# Parse the HTML content with BeautifulSoup\n",
    "soup1 = BeautifulSoup(webpage1.content, \"html.parser\")\n",
    "\n",
    "# Find all <li> tags with the class 'cl-static-search-result'\n",
    "list_items = soup1.find_all('li', class_='cl-static-search-result')\n",
    "\n",
    "# Initialize lists to store data\n",
    "titles = []\n",
    "prices = []\n",
    "locations = []\n",
    "urls = []\n",
    "\n",
    "# Iterate through each <li> tag to extract information\n",
    "for item in list_items:\n",
    "    # Extract title, price, and location\n",
    "    title = item.find('div', class_='title').text.strip()\n",
    "    price = item.find('div', class_='price').text.strip()\n",
    "    location = item.find('div', class_='location').text.strip()\n",
    "\n",
    "    # Extract the URL (href) from the <a> tag\n",
    "    url = item.find('a')['href']\n",
    "\n",
    "    # Append data to lists\n",
    "    titles.append(title)\n",
    "    prices.append(price)\n",
    "    locations.append(location)\n",
    "    urls.append(url)\n",
    "\n",
    "# Create a DataFrame\n",
    "data = {'Title': titles, 'Price': prices, 'Location': locations, 'URL': urls}\n",
    "df1 = pd.DataFrame(data)\n",
    "\n",
    "# Display the DataFrame\n",
    "print(df1)\n"
   ]
  },
  {
   "cell_type": "code",
   "execution_count": null,
   "metadata": {},
   "outputs": [],
   "source": [
    "df1.to_csv('output.csv')"
   ]
  }
 ],
 "metadata": {
  "kernelspec": {
   "display_name": "Python 3",
   "language": "python",
   "name": "python3"
  },
  "language_info": {
   "codemirror_mode": {
    "name": "ipython",
    "version": 3
   },
   "file_extension": ".py",
   "mimetype": "text/x-python",
   "name": "python",
   "nbconvert_exporter": "python",
   "pygments_lexer": "ipython3",
   "version": "3.8.3"
  }
 },
 "nbformat": 4,
 "nbformat_minor": 4
}
